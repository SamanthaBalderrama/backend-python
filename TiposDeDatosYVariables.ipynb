{
 "cells": [
  {
   "cell_type": "markdown",
   "id": "9f2bd0c1",
   "metadata": {},
   "source": [
    "# Panorama\n",
    "int - Integer / Enteros\n",
    "\n",
    "float - Float / Números con decimales\n",
    "\n",
    "complex - Complex / Complejos (Números con una parte real y una imaginaria)\n",
    "\n",
    "bool - Boolean (True / False) / Valores Lógicos (Verdaero / Falso)\n",
    "\n",
    "str - Strings / Cadenas, Textos"
   ]
  },
  {
   "cell_type": "markdown",
   "id": "2b6fb369",
   "metadata": {},
   "source": [
    "# int - Integer/Enteros"
   ]
  },
  {
   "cell_type": "code",
   "execution_count": 1,
   "id": "c1f180d3",
   "metadata": {},
   "outputs": [
    {
     "name": "stdout",
     "output_type": "stream",
     "text": [
      "El valor de mi_entero es:  11\n",
      "El tipo de dato de mi_entero es:  <class 'int'>\n"
     ]
    }
   ],
   "source": [
    "mi_entero = 11\n",
    "print(\"El valor de mi_entero es: \", mi_entero)\n",
    "print(\"El tipo de dato de mi_entero es: \", type(mi_entero))"
   ]
  },
  {
   "cell_type": "code",
   "execution_count": 2,
   "id": "cf4a10e3",
   "metadata": {},
   "outputs": [
    {
     "name": "stdout",
     "output_type": "stream",
     "text": [
      "El valor de mi_entero es:  2022\n",
      "El tipo de dato de mi_entero es:  <class 'int'>\n"
     ]
    }
   ],
   "source": [
    "mi_entero = 2022\n",
    "print(\"El valor de mi_entero es: \", mi_entero)\n",
    "print(\"El tipo de dato de mi_entero es: \", type(mi_entero))"
   ]
  },
  {
   "cell_type": "code",
   "execution_count": 3,
   "id": "eac73a79",
   "metadata": {},
   "outputs": [
    {
     "name": "stdout",
     "output_type": "stream",
     "text": [
      "El valor de mi_entero es:  57831\n",
      "El tipo de dato de mi_entero es:  <class 'int'>\n"
     ]
    }
   ],
   "source": [
    "mi_entero = 57831\n",
    "print(\"El valor de mi_entero es: \", mi_entero)\n",
    "print(\"El tipo de dato de mi_entero es: \", type(mi_entero))"
   ]
  },
  {
   "cell_type": "code",
   "execution_count": 4,
   "id": "9dd0125c",
   "metadata": {},
   "outputs": [
    {
     "ename": "SyntaxError",
     "evalue": "invalid decimal literal (1919625889.py, line 2)",
     "output_type": "error",
     "traceback": [
      "\u001b[1;36m  Cell \u001b[1;32mIn[4], line 2\u001b[1;36m\u001b[0m\n\u001b[1;33m    mi_entero = 57831d\u001b[0m\n\u001b[1;37m                    ^\u001b[0m\n\u001b[1;31mSyntaxError\u001b[0m\u001b[1;31m:\u001b[0m invalid decimal literal\n"
     ]
    }
   ],
   "source": [
    "# Error\n",
    "mi_entero = 57831d\n",
    "print(\"El valor de mi_entero es: \", mi_entero)\n",
    "print(\"El tipo de dato de mi_entero es: \", type(mi_entero))"
   ]
  },
  {
   "cell_type": "code",
   "execution_count": 5,
   "id": "0d1779ca",
   "metadata": {},
   "outputs": [
    {
     "ename": "SyntaxError",
     "evalue": "invalid syntax (259452016.py, line 2)",
     "output_type": "error",
     "traceback": [
      "\u001b[1;36m  Cell \u001b[1;32mIn[5], line 2\u001b[1;36m\u001b[0m\n\u001b[1;33m    mi_entero = 11@\u001b[0m\n\u001b[1;37m                   ^\u001b[0m\n\u001b[1;31mSyntaxError\u001b[0m\u001b[1;31m:\u001b[0m invalid syntax\n"
     ]
    }
   ],
   "source": [
    "# Error\n",
    "mi_entero = 11@\n",
    "print(\"El valor de mi_entero es: \", mi_entero)\n",
    "print(\"El tipo de dato de mi_entero es: \", type(mi_entero))"
   ]
  },
  {
   "cell_type": "markdown",
   "id": "5a5730e7",
   "metadata": {},
   "source": [
    "# float - Float/Números con decimales"
   ]
  },
  {
   "cell_type": "code",
   "execution_count": 6,
   "id": "72304139",
   "metadata": {},
   "outputs": [
    {
     "name": "stdout",
     "output_type": "stream",
     "text": [
      "El valor de mi_entero es:  11.1\n",
      "El tipo de dato de mi_entero es:  <class 'float'>\n"
     ]
    }
   ],
   "source": [
    "my_float = 11.1\n",
    "print(\"El valor de mi_entero es: \", my_float)\n",
    "print(\"El tipo de dato de mi_entero es: \", type(my_float))"
   ]
  },
  {
   "cell_type": "code",
   "execution_count": 7,
   "id": "b59a6ddd",
   "metadata": {},
   "outputs": [
    {
     "name": "stdout",
     "output_type": "stream",
     "text": [
      "El valor de mi_entero es:  11.0\n",
      "El tipo de dato de mi_entero es:  <class 'float'>\n"
     ]
    }
   ],
   "source": [
    "my_float = 11.0\n",
    "print(\"El valor de mi_entero es: \", my_float)\n",
    "print(\"El tipo de dato de mi_entero es: \", type(my_float))"
   ]
  },
  {
   "cell_type": "code",
   "execution_count": 8,
   "id": "4a2e297f",
   "metadata": {},
   "outputs": [
    {
     "ename": "SyntaxError",
     "evalue": "invalid decimal literal (3587056747.py, line 2)",
     "output_type": "error",
     "traceback": [
      "\u001b[1;36m  Cell \u001b[1;32mIn[8], line 2\u001b[1;36m\u001b[0m\n\u001b[1;33m    my_float = 11.k\u001b[0m\n\u001b[1;37m                 ^\u001b[0m\n\u001b[1;31mSyntaxError\u001b[0m\u001b[1;31m:\u001b[0m invalid decimal literal\n"
     ]
    }
   ],
   "source": [
    "# Error\n",
    "my_float = 11.k\n",
    "print(\"El valor de mi_entero es: \", my_float)\n",
    "print(\"El tipo de dato de mi_entero es: \", type(my_float))"
   ]
  },
  {
   "cell_type": "code",
   "execution_count": 9,
   "id": "20cb68a0",
   "metadata": {},
   "outputs": [
    {
     "name": "stdout",
     "output_type": "stream",
     "text": [
      "El valor de mi_entero es:  2000.0\n",
      "El tipo de dato de mi_entero es:  <class 'float'>\n"
     ]
    }
   ],
   "source": [
    "# Notación cientifica\n",
    "my_float = 2e3 # 2.0*10**3\n",
    "print(\"El valor de mi_entero es: \", my_float)\n",
    "print(\"El tipo de dato de mi_entero es: \", type(my_float))"
   ]
  },
  {
   "cell_type": "code",
   "execution_count": 10,
   "id": "762cb1bd",
   "metadata": {},
   "outputs": [
    {
     "data": {
      "text/plain": [
       "1.1"
      ]
     },
     "execution_count": 10,
     "metadata": {},
     "output_type": "execute_result"
    }
   ],
   "source": [
    "1.1"
   ]
  },
  {
   "cell_type": "code",
   "execution_count": 11,
   "id": "87979bf0",
   "metadata": {},
   "outputs": [
    {
     "data": {
      "text/plain": [
       "1.1"
      ]
     },
     "execution_count": 11,
     "metadata": {},
     "output_type": "execute_result"
    }
   ],
   "source": [
    "1.1e0 # 1.1 * 10**0"
   ]
  },
  {
   "cell_type": "code",
   "execution_count": 12,
   "id": "9a0db400",
   "metadata": {},
   "outputs": [
    {
     "data": {
      "text/plain": [
       "11.0"
      ]
     },
     "execution_count": 12,
     "metadata": {},
     "output_type": "execute_result"
    }
   ],
   "source": [
    "1.1e1 # 1.1 * 10**1"
   ]
  },
  {
   "cell_type": "code",
   "execution_count": 13,
   "id": "638e9f21",
   "metadata": {},
   "outputs": [
    {
     "data": {
      "text/plain": [
       "110.0"
      ]
     },
     "execution_count": 13,
     "metadata": {},
     "output_type": "execute_result"
    }
   ],
   "source": [
    "1.1e2 # 1.1 * 10**2"
   ]
  },
  {
   "cell_type": "code",
   "execution_count": 14,
   "id": "bff912ff",
   "metadata": {},
   "outputs": [
    {
     "data": {
      "text/plain": [
       "1100.0"
      ]
     },
     "execution_count": 14,
     "metadata": {},
     "output_type": "execute_result"
    }
   ],
   "source": [
    "1.1e3 # 1.1 * 10**3"
   ]
  },
  {
   "cell_type": "code",
   "execution_count": 15,
   "id": "d756486b",
   "metadata": {},
   "outputs": [
    {
     "data": {
      "text/plain": [
       "0.08"
      ]
     },
     "execution_count": 15,
     "metadata": {},
     "output_type": "execute_result"
    }
   ],
   "source": [
    "8e-2 # 8 * 10**-2"
   ]
  },
  {
   "cell_type": "markdown",
   "id": "6300483d",
   "metadata": {},
   "source": [
    "# complex - Complex / Complejos (Números con una parte real y una imaginaria)\n",
    "\n",
    "complex = x + yj\n",
    "\n",
    "x = parte real\n",
    "\n",
    "yj = parte imaginaria"
   ]
  },
  {
   "cell_type": "code",
   "execution_count": 16,
   "id": "297b558e",
   "metadata": {},
   "outputs": [
    {
     "name": "stdout",
     "output_type": "stream",
     "text": [
      "El valor de mi_entero es:  (3+9j)\n",
      "El tipo de dato de mi_entero es:  <class 'complex'>\n"
     ]
    }
   ],
   "source": [
    "complejo = 3 + 9j\n",
    "print(\"El valor de complejo es: \", complejo)\n",
    "print(\"El tipo de dato de complejo es: \", type(complejo))"
   ]
  },
  {
   "cell_type": "code",
   "execution_count": 17,
   "id": "a304b0f6",
   "metadata": {},
   "outputs": [
    {
     "name": "stdout",
     "output_type": "stream",
     "text": [
      "El valor de complejo es:  (2+5j)\n",
      "El tipo de dato de complejo es:  <class 'complex'>\n"
     ]
    }
   ],
   "source": [
    "complejo = 2 + 5j\n",
    "print(\"El valor de complejo es: \", complejo)\n",
    "print(\"El tipo de dato de complejo es: \", type(complejo))"
   ]
  },
  {
   "cell_type": "markdown",
   "id": "f64494be",
   "metadata": {},
   "source": [
    "# bool - Boolean (True / False) / Valores Lógicos (Verdaero / Falso)"
   ]
  },
  {
   "cell_type": "code",
   "execution_count": 18,
   "id": "edd6a032",
   "metadata": {},
   "outputs": [
    {
     "name": "stdout",
     "output_type": "stream",
     "text": [
      "El valor de my_boolean es:  False\n",
      "El tipo de dato de my_boolean es:  <class 'bool'>\n"
     ]
    }
   ],
   "source": [
    "my_boolean = False\n",
    "print(\"El valor de my_boolean es: \", my_boolean)\n",
    "print(\"El tipo de dato de my_boolean es: \", type(my_boolean))"
   ]
  },
  {
   "cell_type": "code",
   "execution_count": 19,
   "id": "baa1f67b",
   "metadata": {},
   "outputs": [
    {
     "name": "stdout",
     "output_type": "stream",
     "text": [
      "El valor de my_boolean es:  True\n",
      "El tipo de dato de my_boolean es:  <class 'bool'>\n"
     ]
    }
   ],
   "source": [
    "my_boolean = True\n",
    "print(\"El valor de my_boolean es: \", my_boolean)\n",
    "print(\"El tipo de dato de my_boolean es: \", type(my_boolean))"
   ]
  },
  {
   "cell_type": "code",
   "execution_count": 20,
   "id": "71a16c01",
   "metadata": {},
   "outputs": [],
   "source": [
    "# True = 1\n",
    "# False = 0"
   ]
  },
  {
   "cell_type": "code",
   "execution_count": 21,
   "id": "6ce90289",
   "metadata": {},
   "outputs": [
    {
     "name": "stdout",
     "output_type": "stream",
     "text": [
      "3\n"
     ]
    }
   ],
   "source": [
    "# 3\n",
    "print(True+True+True)"
   ]
  },
  {
   "cell_type": "code",
   "execution_count": 23,
   "id": "bbe2108f",
   "metadata": {},
   "outputs": [
    {
     "name": "stdout",
     "output_type": "stream",
     "text": [
      "0\n"
     ]
    }
   ],
   "source": [
    "# 0\n",
    "print(False+False+False)"
   ]
  },
  {
   "cell_type": "code",
   "execution_count": 24,
   "id": "720736c2",
   "metadata": {},
   "outputs": [
    {
     "name": "stdout",
     "output_type": "stream",
     "text": [
      "2\n"
     ]
    }
   ],
   "source": [
    "# 2\n",
    "print(True+False+True)"
   ]
  },
  {
   "cell_type": "code",
   "execution_count": 25,
   "id": "02089386",
   "metadata": {},
   "outputs": [
    {
     "name": "stdout",
     "output_type": "stream",
     "text": [
      "1\n"
     ]
    }
   ],
   "source": [
    "# 1\n",
    "print(True-True+True)"
   ]
  },
  {
   "cell_type": "code",
   "execution_count": 26,
   "id": "2971f811",
   "metadata": {},
   "outputs": [
    {
     "name": "stdout",
     "output_type": "stream",
     "text": [
      "-2\n"
     ]
    }
   ],
   "source": [
    "# -2\n",
    "print(False-True-True)"
   ]
  },
  {
   "cell_type": "markdown",
   "id": "ca0c2acd",
   "metadata": {},
   "source": [
    "# str - Strings / Cadenas, Textos"
   ]
  },
  {
   "cell_type": "code",
   "execution_count": 27,
   "id": "9682c33d",
   "metadata": {},
   "outputs": [
    {
     "name": "stdout",
     "output_type": "stream",
     "text": [
      "El valor de txt es:  Backend Python\n",
      "El tipo de dato de txt es:  <class 'str'>\n"
     ]
    }
   ],
   "source": [
    "txt = \"Backend Python\"\n",
    "print(\"El valor de txt es: \", txt)\n",
    "print(\"El tipo de dato de txt es: \", type(txt))"
   ]
  },
  {
   "cell_type": "code",
   "execution_count": 28,
   "id": "fa980781",
   "metadata": {},
   "outputs": [
    {
     "name": "stdout",
     "output_type": "stream",
     "text": [
      "El valor de txt es:  Curso de EBAC\n",
      "El tipo de dato de txt es:  <class 'str'>\n"
     ]
    }
   ],
   "source": [
    "txt = \"Curso de EBAC\"\n",
    "print(\"El valor de txt es: \", txt)\n",
    "print(\"El tipo de dato de txt es: \", type(txt))"
   ]
  },
  {
   "cell_type": "code",
   "execution_count": 29,
   "id": "a41e33c0",
   "metadata": {},
   "outputs": [
    {
     "name": "stdout",
     "output_type": "stream",
     "text": [
      "El valor de txt es:  Aprendiendo a usar strings/cadenas/textos\n",
      "El tipo de dato de txt es:  <class 'str'>\n"
     ]
    }
   ],
   "source": [
    "txt = \"Aprendiendo a usar strings/cadenas/textos\"\n",
    "print(\"El valor de txt es: \", txt)\n",
    "print(\"El tipo de dato de txt es: \", type(txt))"
   ]
  },
  {
   "cell_type": "code",
   "execution_count": 30,
   "id": "6258c27a",
   "metadata": {},
   "outputs": [
    {
     "ename": "SyntaxError",
     "evalue": "unterminated string literal (detected at line 1) (987391302.py, line 1)",
     "output_type": "error",
     "traceback": [
      "\u001b[1;36m  Cell \u001b[1;32mIn[30], line 1\u001b[1;36m\u001b[0m\n\u001b[1;33m    txt = 'You're amazing'\u001b[0m\n\u001b[1;37m                         ^\u001b[0m\n\u001b[1;31mSyntaxError\u001b[0m\u001b[1;31m:\u001b[0m unterminated string literal (detected at line 1)\n"
     ]
    }
   ],
   "source": [
    "txt = 'You're amazing'\n",
    "print(\"El valor de txt es: \", txt)\n",
    "print(\"El tipo de dato de txt es: \", type(txt))"
   ]
  },
  {
   "cell_type": "code",
   "execution_count": 32,
   "id": "f831cb77",
   "metadata": {},
   "outputs": [
    {
     "name": "stdout",
     "output_type": "stream",
     "text": [
      "El valor de txt es:  \n",
      "Es una cadena con multiples líneas\n",
      "\n",
      "Como puedes ver es genial para textos mas largos\n",
      "\n",
      "¿Puedes imaginar cuantas cosas podrías hacer manejando texto en Internet?\n",
      "El tipo de dato de txt es:  <class 'str'>\n"
     ]
    }
   ],
   "source": [
    "txt = \"\"\"\n",
    "Es una cadena con multiples líneas\\n\n",
    "Como puedes ver es genial para textos mas largos\\n\n",
    "¿Puedes imaginar cuantas cosas podrías hacer manejando texto en Internet?\"\"\"\n",
    "print(\"El valor de txt es: \", txt)\n",
    "print(\"El tipo de dato de txt es: \", type(txt))"
   ]
  },
  {
   "cell_type": "markdown",
   "id": "67675c12",
   "metadata": {},
   "source": [
    "# Variables\n",
    "### ¿Qué es una variable?\n",
    "- Son un espacio temporal para guardar un valor con un nombre especifico.\n",
    "- No hay necesidad de declarar el tipo de dato explicitamente.\n",
    "- Python es un lenguaje tipado dinamicamente, lo que quiere decir que el tipo de dato se define mientras corre el programa.\n",
    "- Las variables en Python funcionan diferente que otros lenguajes de programacion.\n",
    "- No necesitamos crear las variables, solo asignamos un nombre a un valor usando el valor de asignacion.\n",
    "\n",
    "### Tipos de variables:\n",
    "- Variables Globales: aquellas que se utilizaran para todo el programa.\n",
    "- Variables locales: aquellas que se van a utilizar en un bloque especifico."
   ]
  },
  {
   "cell_type": "markdown",
   "id": "db7bf723",
   "metadata": {},
   "source": [
    "# Variables Globales\n",
    "- Declaramos variables globales afuera de funciones.\n",
    "- El valor de la variable puede ser constante para todo el programa.\n",
    "- Cualquier funcion podrá acceder a estas variables.\n",
    "- Podemos decir que las variables globales tienen un alcance global.\n",
    "- Normalmente son más usadas para constantes.\n",
    "- Las variables globales mantienen sus valores a través de la ejecución completa del programa.\n",
    "- Una variable global puede ser accesada por cualquier función."
   ]
  },
  {
   "cell_type": "code",
   "execution_count": 33,
   "id": "93f14396",
   "metadata": {},
   "outputs": [],
   "source": [
    "# Variable global\n",
    "Var_global = 50\n",
    "def function_1():\n",
    "    pass\n",
    "def function_2():\n",
    "    pass"
   ]
  },
  {
   "cell_type": "code",
   "execution_count": 34,
   "id": "5786c04c",
   "metadata": {},
   "outputs": [],
   "source": [
    "# Variable local\n",
    "def function_1():\n",
    "    var_local = 5\n",
    "    pass\n",
    "def function_2():\n",
    "    var_local = 35\n",
    "    pass"
   ]
  },
  {
   "cell_type": "code",
   "execution_count": 35,
   "id": "6fd3e06f",
   "metadata": {},
   "outputs": [],
   "source": [
    "# Variable global\n",
    "var_global = 50\n",
    "\n",
    "def function_1():\n",
    "    print(\"function_1 - El valor de var_global es: \", var_global)\n",
    "    pass\n",
    "def function_2():\n",
    "    print(\"function_2 - El valor de var_global es: \", var_global)\n",
    "    pass"
   ]
  },
  {
   "cell_type": "code",
   "execution_count": 36,
   "id": "f739eb91",
   "metadata": {},
   "outputs": [],
   "source": [
    "# Preferencia al valor local y despues al global\n",
    "var = 50 # Global\n",
    "\n",
    "def function_1():\n",
    "    var = 10 # Local\n",
    "    print(\"function_1 - El valor de var es: \", var)\n",
    "    pass\n",
    "def function_2():\n",
    "    var = 20 # Local\n",
    "    print(\"function_2 - El valor de var es: \", var)\n",
    "    pass\n",
    "def function_3():\n",
    "    print(\"function_3 - El valor de var es: \", var)\n",
    "    pass"
   ]
  },
  {
   "cell_type": "code",
   "execution_count": 37,
   "id": "c89e0d67",
   "metadata": {},
   "outputs": [
    {
     "name": "stdout",
     "output_type": "stream",
     "text": [
      "function_1 - El valor de var es:  10\n"
     ]
    }
   ],
   "source": [
    "function_1()"
   ]
  },
  {
   "cell_type": "code",
   "execution_count": 38,
   "id": "d93379e8",
   "metadata": {},
   "outputs": [
    {
     "name": "stdout",
     "output_type": "stream",
     "text": [
      "function_2 - El valor de var es:  20\n"
     ]
    }
   ],
   "source": [
    "function_2()"
   ]
  },
  {
   "cell_type": "code",
   "execution_count": 39,
   "id": "7e33b3ad",
   "metadata": {},
   "outputs": [
    {
     "name": "stdout",
     "output_type": "stream",
     "text": [
      "function_3 - El valor de var es:  50\n"
     ]
    }
   ],
   "source": [
    "function_3()"
   ]
  },
  {
   "cell_type": "markdown",
   "id": "d4429740",
   "metadata": {},
   "source": [
    "# Variables locales\n",
    "- Podemos utilizarlas dentro de una función.\n",
    "- Podemos tener una restricción al acceder a una variable local desde otra función.\n",
    "- No podemos usarlas durante todo el programa.\n",
    "- EL alcance y visibilidad se limita al interior de la función\n",
    "- Lo que dure la función será lo que dure el alcance de nuestra variable"
   ]
  },
  {
   "cell_type": "code",
   "execution_count": 40,
   "id": "a9021cbf",
   "metadata": {},
   "outputs": [],
   "source": [
    "# Variable global\n",
    "Var_global = 50\n",
    "def function_1():\n",
    "    pass\n",
    "def function_2():\n",
    "    pass"
   ]
  },
  {
   "cell_type": "code",
   "execution_count": 41,
   "id": "79b32f2d",
   "metadata": {},
   "outputs": [],
   "source": [
    "# Variable local\n",
    "def function_1():\n",
    "    var_local = 5\n",
    "    pass\n",
    "def function_2():\n",
    "    var_local = 35\n",
    "    pass"
   ]
  },
  {
   "cell_type": "code",
   "execution_count": 1,
   "id": "8f39c9ce",
   "metadata": {},
   "outputs": [],
   "source": [
    "def function_1():\n",
    "    var = 10 # Local\n",
    "    print(\"function_1 - El valor de var es: \", var)\n",
    "    pass\n",
    "def function_2():\n",
    "    var = 20 # Local\n",
    "    print(\"function_2 - El valor de var es: \", var)\n",
    "    pass\n",
    "def function_3():\n",
    "    print(\"function_3 - El valor de var es: \", var)\n",
    "    pass"
   ]
  },
  {
   "cell_type": "code",
   "execution_count": 43,
   "id": "e366ff39",
   "metadata": {},
   "outputs": [
    {
     "name": "stdout",
     "output_type": "stream",
     "text": [
      "function_1 - El valor de var es:  10\n",
      "function_2 - El valor de var es:  20\n",
      "function_3 - El valor de var es:  50\n"
     ]
    }
   ],
   "source": [
    "function_1()\n",
    "function_2()\n",
    "function_3()"
   ]
  },
  {
   "cell_type": "code",
   "execution_count": 3,
   "id": "e92a1695",
   "metadata": {},
   "outputs": [
    {
     "name": "stdout",
     "output_type": "stream",
     "text": [
      "function_1 - El valor de var es:  10\n",
      "function_2 - El valor de var es:  20\n"
     ]
    },
    {
     "ename": "NameError",
     "evalue": "name 'var' is not defined",
     "output_type": "error",
     "traceback": [
      "\u001b[1;31m---------------------------------------------------------------------------\u001b[0m",
      "\u001b[1;31mNameError\u001b[0m                                 Traceback (most recent call last)",
      "Cell \u001b[1;32mIn[3], line 3\u001b[0m\n\u001b[0;32m      1\u001b[0m function_1()\n\u001b[0;32m      2\u001b[0m function_2()\n\u001b[1;32m----> 3\u001b[0m \u001b[43mfunction_3\u001b[49m\u001b[43m(\u001b[49m\u001b[43m)\u001b[49m \u001b[38;5;66;03m# Error por que no existe una vairable local ni global\u001b[39;00m\n",
      "Cell \u001b[1;32mIn[1], line 10\u001b[0m, in \u001b[0;36mfunction_3\u001b[1;34m()\u001b[0m\n\u001b[0;32m      9\u001b[0m \u001b[38;5;28;01mdef\u001b[39;00m \u001b[38;5;21mfunction_3\u001b[39m():\n\u001b[1;32m---> 10\u001b[0m     \u001b[38;5;28mprint\u001b[39m(\u001b[38;5;124m\"\u001b[39m\u001b[38;5;124mfunction_3 - El valor de var es: \u001b[39m\u001b[38;5;124m\"\u001b[39m, \u001b[43mvar\u001b[49m)\n\u001b[0;32m     11\u001b[0m     \u001b[38;5;28;01mpass\u001b[39;00m\n",
      "\u001b[1;31mNameError\u001b[0m: name 'var' is not defined"
     ]
    }
   ],
   "source": [
    "function_1()\n",
    "function_2()\n",
    "function_3() # Error por que no existe una vairable local ni global"
   ]
  },
  {
   "cell_type": "markdown",
   "id": "5f967059",
   "metadata": {},
   "source": [
    "# Palabra reservada \"global\""
   ]
  },
  {
   "cell_type": "code",
   "execution_count": 4,
   "id": "f31a42cd",
   "metadata": {},
   "outputs": [],
   "source": [
    "def function_1():\n",
    "    var = 10 # Local\n",
    "    print(\"function_1 - El valor de var es: \", var)\n",
    "    pass\n",
    "def function_2():\n",
    "    global var # Se convierte en Global\n",
    "    var = 20 \n",
    "    print(\"function_2 - El valor de var es: \", var)\n",
    "    pass\n",
    "def function_3():\n",
    "    print(\"function_3 - El valor de var es: \", var)\n",
    "    pass"
   ]
  },
  {
   "cell_type": "code",
   "execution_count": 5,
   "id": "5b5ba1cc",
   "metadata": {},
   "outputs": [
    {
     "name": "stdout",
     "output_type": "stream",
     "text": [
      "function_1 - El valor de var es:  10\n",
      "function_2 - El valor de var es:  20\n",
      "function_3 - El valor de var es:  20\n"
     ]
    }
   ],
   "source": [
    "function_1()\n",
    "function_2()\n",
    "function_3()"
   ]
  },
  {
   "cell_type": "code",
   "execution_count": 9,
   "id": "d5e5c38d",
   "metadata": {},
   "outputs": [],
   "source": [
    "def function_1():\n",
    "    var = 10 # Local\n",
    "    print(\"function_1 - El valor de var es: \", var)\n",
    "    pass\n",
    "def function_2():\n",
    "    global a, b, c, d, e # Se convierte en Global\n",
    "    a = 10\n",
    "    b = 20\n",
    "    c = 30\n",
    "    d = 40\n",
    "    e = 50\n",
    "    print(\"function_2 - El valor de a es: \", a)\n",
    "    print(\"function_2 - El valor de b es: \", b)\n",
    "    print(\"function_2 - El valor de c es: \", c)\n",
    "    print(\"function_2 - El valor de d es: \", d)\n",
    "    print(\"function_2 - El valor de e es: \", e)\n",
    "    pass\n",
    "def function_3():\n",
    "    print(\"function_3 - El valor de a es: \", a)\n",
    "    print(\"function_3 - El valor de b es: \", b)\n",
    "    print(\"function_3 - El valor de c es: \", c)\n",
    "    print(\"function_3 - El valor de d es: \", d)\n",
    "    print(\"function_3 - El valor de e es: \", e)\n",
    "    pass"
   ]
  },
  {
   "cell_type": "code",
   "execution_count": 10,
   "id": "6783694f",
   "metadata": {},
   "outputs": [
    {
     "name": "stdout",
     "output_type": "stream",
     "text": [
      "function_1 - El valor de var es:  10\n",
      "function_2 - El valor de a es:  10\n",
      "function_2 - El valor de b es:  20\n",
      "function_2 - El valor de c es:  30\n",
      "function_2 - El valor de d es:  40\n",
      "function_2 - El valor de e es:  50\n",
      "function_3 - El valor de a es:  10\n",
      "function_3 - El valor de b es:  20\n",
      "function_3 - El valor de c es:  30\n",
      "function_3 - El valor de d es:  40\n",
      "function_3 - El valor de e es:  50\n"
     ]
    }
   ],
   "source": [
    "function_1()\n",
    "function_2()\n",
    "function_3()"
   ]
  },
  {
   "cell_type": "markdown",
   "id": "34eed56d",
   "metadata": {},
   "source": [
    "# Tipos de Enteros\n",
    "- Forma decimal\n",
    "- Forma binaria\n",
    "- Forma octal\n",
    "- Forma hexadecimal "
   ]
  },
  {
   "cell_type": "markdown",
   "id": "7534a5b1",
   "metadata": {},
   "source": [
    "# Forma decimal"
   ]
  },
  {
   "cell_type": "code",
   "execution_count": 11,
   "id": "de841d6e",
   "metadata": {},
   "outputs": [
    {
     "name": "stdout",
     "output_type": "stream",
     "text": [
      "El valor de num_deciamal es:  55\n"
     ]
    }
   ],
   "source": [
    "num_decimal = 55\n",
    "print(\"El valor de num_deciamal es: \", num_decimal)"
   ]
  },
  {
   "cell_type": "code",
   "execution_count": 12,
   "id": "a81a2a83",
   "metadata": {},
   "outputs": [
    {
     "name": "stdout",
     "output_type": "stream",
     "text": [
      "El valor de num_deciamal es:  512345678908978956\n"
     ]
    }
   ],
   "source": [
    "num_decimal = 512345678908978956\n",
    "\n",
    "print(\"El valor de num_deciamal es: \", num_decimal)"
   ]
  },
  {
   "cell_type": "code",
   "execution_count": 13,
   "id": "27406083",
   "metadata": {},
   "outputs": [
    {
     "ename": "SyntaxError",
     "evalue": "invalid decimal literal (2118100920.py, line 2)",
     "output_type": "error",
     "traceback": [
      "\u001b[1;36m  Cell \u001b[1;32mIn[13], line 2\u001b[1;36m\u001b[0m\n\u001b[1;33m    num_decimal = 55d\u001b[0m\n\u001b[1;37m                   ^\u001b[0m\n\u001b[1;31mSyntaxError\u001b[0m\u001b[1;31m:\u001b[0m invalid decimal literal\n"
     ]
    }
   ],
   "source": [
    "# Error de sintaxis\n",
    "num_decimal = 55d\n",
    "print(\"El valor de num_deciamal es: \", num_decimal)"
   ]
  },
  {
   "cell_type": "code",
   "execution_count": 14,
   "id": "d2c1b225",
   "metadata": {},
   "outputs": [
    {
     "ename": "SyntaxError",
     "evalue": "invalid syntax (2155072914.py, line 2)",
     "output_type": "error",
     "traceback": [
      "\u001b[1;36m  Cell \u001b[1;32mIn[14], line 2\u001b[1;36m\u001b[0m\n\u001b[1;33m    num_decimal = 55@\u001b[0m\n\u001b[1;37m                     ^\u001b[0m\n\u001b[1;31mSyntaxError\u001b[0m\u001b[1;31m:\u001b[0m invalid syntax\n"
     ]
    }
   ],
   "source": [
    "# Error de sintaxis\n",
    "num_decimal = 55@\n",
    "print(\"El valor de num_deciamal es: \", num_decimal)"
   ]
  },
  {
   "cell_type": "markdown",
   "id": "f2eae31a",
   "metadata": {},
   "source": [
    "# Forma binaria\n",
    "- Código organizado en bytes\n",
    "- Lenguaje binario\n",
    "- Lenguaje de las máquinas (1 y 0)\n",
    "\n",
    "### Valor base = 2\n",
    "\n",
    "- Solamente aceta dos dígitos (1 y 0)\n",
    "- Usamos el prefijo '0b' o '0B'"
   ]
  },
  {
   "cell_type": "code",
   "execution_count": 16,
   "id": "65b3263d",
   "metadata": {},
   "outputs": [
    {
     "name": "stdout",
     "output_type": "stream",
     "text": [
      "El valor de num_deciamal es:  11\n"
     ]
    }
   ],
   "source": [
    "num_decimal = 11\n",
    "print(\"El valor de num_deciamal es: \", num_decimal)"
   ]
  },
  {
   "cell_type": "code",
   "execution_count": 17,
   "id": "9ba0df2e",
   "metadata": {},
   "outputs": [
    {
     "name": "stdout",
     "output_type": "stream",
     "text": [
      "El valor de num_deciamal es:  3\n"
     ]
    }
   ],
   "source": [
    "num_binario = 0b11 # 1*2**1 + 1*2**0\n",
    "print(\"El valor de num_deciamal es: \", num_binario)"
   ]
  },
  {
   "cell_type": "code",
   "execution_count": 18,
   "id": "faa56085",
   "metadata": {},
   "outputs": [
    {
     "name": "stdout",
     "output_type": "stream",
     "text": [
      "El valor de num_deciamal es:  111\n"
     ]
    }
   ],
   "source": [
    "num_decimal = 111\n",
    "print(\"El valor de num_deciamal es: \", num_decimal)"
   ]
  },
  {
   "cell_type": "code",
   "execution_count": 19,
   "id": "b1254379",
   "metadata": {},
   "outputs": [
    {
     "name": "stdout",
     "output_type": "stream",
     "text": [
      "El valor de num_deciamal es:  7\n"
     ]
    }
   ],
   "source": [
    "num_binario = 0B111 # 1*2**2 + 1*2**1 + 1*2**0\n",
    "print(\"El valor de num_deciamal es: \", num_binario)"
   ]
  },
  {
   "cell_type": "markdown",
   "id": "721d0715",
   "metadata": {},
   "source": [
    "# Forma Octal\n",
    "\n",
    "### Valor base: 8\n",
    "\n",
    "- Solamente acepta dígitos del 0 al 7\n",
    "- Usamos el prefijo '0o' o '0O'"
   ]
  },
  {
   "cell_type": "code",
   "execution_count": 20,
   "id": "0333c343",
   "metadata": {},
   "outputs": [
    {
     "name": "stdout",
     "output_type": "stream",
     "text": [
      "El valor de num_deciamal es:  17\n",
      "El valor de num_octal es:  15\n"
     ]
    }
   ],
   "source": [
    "num_decimal = 17\n",
    "print(\"El valor de num_deciamal es: \", num_decimal)\n",
    "num_octal = 0o17 # 1*8**1 + 7*8**0\n",
    "print(\"El valor de num_octal es: \", num_octal)"
   ]
  },
  {
   "cell_type": "code",
   "execution_count": 21,
   "id": "1a3842c3",
   "metadata": {},
   "outputs": [
    {
     "name": "stdout",
     "output_type": "stream",
     "text": [
      "El valor de num_deciamal es:  153\n",
      "El valor de num_octal es:  107\n"
     ]
    }
   ],
   "source": [
    "num_decimal = 153\n",
    "print(\"El valor de num_deciamal es: \", num_decimal)\n",
    "num_octal = 0o153 # 1*8**2 + 5*8**1 + 7*8**0\n",
    "print(\"El valor de num_octal es: \", num_octal)"
   ]
  },
  {
   "cell_type": "markdown",
   "id": "c1a4550b",
   "metadata": {},
   "source": [
    "# Forma Hexadecimal\n",
    "\n",
    "### Valor base: 16\n",
    "\n",
    "- Acepta dígitos del 0 al 9\n",
    "- Acepta letras de la 'a/A' a la 'f/F'\n",
    "- Usamos el prefijo '0x' o '0X'\n",
    "\n",
    "- 0\n",
    "- 1\n",
    "- 2\n",
    "- 3\n",
    "- 4\n",
    "- 5\n",
    "- 6\n",
    "- 7\n",
    "- 8\n",
    "- 9\n",
    "- A = 10\n",
    "- B = 11\n",
    "- C = 12\n",
    "- D = 13\n",
    "- E = 14\n",
    "- F = 15"
   ]
  },
  {
   "cell_type": "code",
   "execution_count": 26,
   "id": "aa2dd47c",
   "metadata": {},
   "outputs": [
    {
     "name": "stdout",
     "output_type": "stream",
     "text": [
      "El valor de num_deciamal es:  17\n",
      "El valor de num_hex es:  23\n"
     ]
    }
   ],
   "source": [
    "num_decimal = 17\n",
    "print(\"El valor de num_deciamal es: \", num_decimal)\n",
    "num_hex = 0x17 # 1*16**1 + 7*16**0\n",
    "print(\"El valor de num_hex es: \", num_hex)"
   ]
  },
  {
   "cell_type": "code",
   "execution_count": 25,
   "id": "e4d8edf2",
   "metadata": {},
   "outputs": [
    {
     "name": "stdout",
     "output_type": "stream",
     "text": [
      "El valor de num_hex es:  28\n"
     ]
    }
   ],
   "source": [
    "num_hex = 0X1C # 1*16**1 + 12*16**0\n",
    "print(\"El valor de num_hex es: \", num_hex)"
   ]
  },
  {
   "cell_type": "code",
   "execution_count": null,
   "id": "19d5b9c4",
   "metadata": {},
   "outputs": [],
   "source": []
  }
 ],
 "metadata": {
  "kernelspec": {
   "display_name": "Python 3 (ipykernel)",
   "language": "python",
   "name": "python3"
  },
  "language_info": {
   "codemirror_mode": {
    "name": "ipython",
    "version": 3
   },
   "file_extension": ".py",
   "mimetype": "text/x-python",
   "name": "python",
   "nbconvert_exporter": "python",
   "pygments_lexer": "ipython3",
   "version": "3.11.3"
  }
 },
 "nbformat": 4,
 "nbformat_minor": 5
}
