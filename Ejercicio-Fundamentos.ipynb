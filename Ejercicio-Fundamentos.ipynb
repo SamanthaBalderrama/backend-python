{
 "cells": [
  {
   "cell_type": "markdown",
   "id": "d0845b7c",
   "metadata": {},
   "source": [
    "## Ejercicio: escribe un programa pidiéndole al usuario un entero, un float y una cadena."
   ]
  },
  {
   "cell_type": "code",
   "execution_count": 7,
   "id": "d36c7ed7",
   "metadata": {},
   "outputs": [
    {
     "name": "stdout",
     "output_type": "stream",
     "text": [
      "Ingrese un número entero: \n",
      "1\n",
      "Ingrese un número flotante: \n",
      "2.3\n",
      "Ingrese una cadena de texto: \n",
      "abc\n",
      "\n",
      "El primer valor es:  1  su tipo de dato es: <class 'int'>\n",
      "El primer valor es:  2.3  su tipo de dato es: <class 'float'>\n",
      "El primer valor es:  abc  su tipo de dato es: <class 'str'>\n"
     ]
    }
   ],
   "source": [
    "e = eval(input(\"Ingrese un número entero: \\n\"))\n",
    "f = eval(input(\"Ingrese un número flotante: \\n\"))\n",
    "c = input(\"Ingrese una cadena de texto: \\n\")\n",
    "print(\"\\n- El primer valor es: \",e,\" su tipo de dato es:\",type(e)) \n",
    "print(\"- El primer valor es: \",f,\" su tipo de dato es:\",type(f))\n",
    "print(\"- El primer valor es: \",c,\" su tipo de dato es:\",type(c))"
   ]
  }
 ],
 "metadata": {
  "kernelspec": {
   "display_name": "Python 3 (ipykernel)",
   "language": "python",
   "name": "python3"
  },
  "language_info": {
   "codemirror_mode": {
    "name": "ipython",
    "version": 3
   },
   "file_extension": ".py",
   "mimetype": "text/x-python",
   "name": "python",
   "nbconvert_exporter": "python",
   "pygments_lexer": "ipython3",
   "version": "3.11.3"
  }
 },
 "nbformat": 4,
 "nbformat_minor": 5
}
