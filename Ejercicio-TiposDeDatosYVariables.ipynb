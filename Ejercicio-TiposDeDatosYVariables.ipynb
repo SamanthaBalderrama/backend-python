{
 "cells": [
  {
   "cell_type": "markdown",
   "id": "ad315524",
   "metadata": {},
   "source": [
    "## Ejercicio:\n",
    "### Programa que pida al usuario elegir una operación (suma, resta, multiplicación, división y potencia) y que ingrese 2 números. Puntos extra si aceptas valores binarios, octales y hexadecimales."
   ]
  },
  {
   "cell_type": "code",
   "execution_count": 2,
   "id": "9663eaaa",
   "metadata": {},
   "outputs": [
    {
     "name": "stdout",
     "output_type": "stream",
     "text": [
      "Ingrese dos valores numéricos, favor de considerar las siguientes indicaciones: \n",
      " - Para un valor binario: agregar el prefijo '0b' o '0B'.\n",
      " - Para un valor octal: agregar el prefijo '0o' o '0O'.\n",
      " - Para un valor hexadecimal: agregar el prefijo '0x' o '0X'.\n",
      "Ingrese primer valor: \n",
      "1e3\n",
      "Ingrese segundo valor: \n",
      "0xAB\n",
      "El primer valor:  1000.0\n",
      "El segundo valor:  171\n",
      "Resultado de la suma:  1171.0\n",
      "Resultado de la resta:  829.0\n",
      "Resultado de la multiplicación:  171000.0\n",
      "Resultado de la resta:  5.847953216374269\n",
      "Resultado de la potencia, considerando var1 elevado a var2:  1.000000000000000000000000000E+513\n"
     ]
    }
   ],
   "source": [
    "from decimal import Decimal\n",
    "print(\"\"\"Ingrese dos valores numéricos, favor de considerar las siguientes indicaciones: \n",
    " - Para un valor binario: agregar el prefijo '0b' o '0B'.\n",
    " - Para un valor octal: agregar el prefijo '0o' o '0O'.\n",
    " - Para un valor hexadecimal: agregar el prefijo '0x' o '0X'.\"\"\")\n",
    "var1 = eval(input(\"Ingrese primer valor: \\n\"))\n",
    "var2 = eval(input(\"Ingrese segundo valor: \\n\"))\n",
    "print(\"El primer valor: \", var1)\n",
    "print(\"El segundo valor: \", var2)\n",
    "def fSuma():\n",
    "    total = var1 + var2\n",
    "    print(\"Resultado de la suma: \", total)\n",
    "    pass\n",
    "def fResta():\n",
    "    total = var1 - var2\n",
    "    print(\"Resultado de la resta: \", total)\n",
    "    pass\n",
    "def fMult():\n",
    "    total = var1 * var2\n",
    "    print(\"Resultado de la multiplicación: \", total)\n",
    "    pass\n",
    "def fDiv():\n",
    "    if var1  <= 0 and var2>0:\n",
    "        print(\"El primer valor es menor o igual a 0, por lo que no es posible realizar al operacion de división.\\n Valor ingresado: \", var1)\n",
    "    elif var2 <= 0 and var1>0:\n",
    "        print(\"El segundo valor es menor o igual a 0, por lo que no es posible realizar al operacion de división.\\n Valor ingresado: \", var2)\n",
    "    else:\n",
    "        total = var1 / var2\n",
    "        print(\"Resultado de la resta: \", total)\n",
    "    pass\n",
    "def fPot():    \n",
    "    total = Decimal(var1) ** Decimal(var2)\n",
    "    print(\"Resultado de la potencia, considerando var1 elevado a var2: \", total)\n",
    "    pass\n",
    "fSuma()\n",
    "fResta()\n",
    "fMult()\n",
    "fDiv()\n",
    "fPot()"
   ]
  },
  {
   "cell_type": "code",
   "execution_count": null,
   "id": "6ac4d91e",
   "metadata": {},
   "outputs": [],
   "source": []
  }
 ],
 "metadata": {
  "kernelspec": {
   "display_name": "Python 3 (ipykernel)",
   "language": "python",
   "name": "python3"
  },
  "language_info": {
   "codemirror_mode": {
    "name": "ipython",
    "version": 3
   },
   "file_extension": ".py",
   "mimetype": "text/x-python",
   "name": "python",
   "nbconvert_exporter": "python",
   "pygments_lexer": "ipython3",
   "version": "3.11.3"
  }
 },
 "nbformat": 4,
 "nbformat_minor": 5
}
